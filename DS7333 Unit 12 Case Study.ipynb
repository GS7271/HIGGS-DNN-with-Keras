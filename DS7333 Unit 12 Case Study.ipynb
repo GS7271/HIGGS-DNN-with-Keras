{
 "cells": [
  {
   "cell_type": "markdown",
   "metadata": {},
   "source": [
    "__Neural Nets with Keras__\n",
    "\n",
    "*Oscar Padilla*"
   ]
  },
  {
   "cell_type": "markdown",
   "metadata": {},
   "source": [
    "# Introduction\n",
    "The goal of this case study is to analyze the effects of different input parameters into the neural network API Keras.\n",
    "\n",
    "The assignment consists of\n",
    "\n",
    "1. Developing 3 different architectures: number of layers and neurons\n",
    "\n",
    "2. Trying diffeerent activation functions (e.g. `relu`, `tanh`)\n",
    "\n",
    "3. Varying `batch_size`\n",
    "\n",
    "4. Experimenting with different `kernel_initializer`\n",
    "\n",
    "5. Trying different `optimizer`"
   ]
  },
  {
   "cell_type": "markdown",
   "metadata": {},
   "source": [
    "# Background\n",
    "\n",
    "Let's understand the original dataset\n",
    "\n",
    "## HIGGS Data Set\n",
    "\n",
    "> This is a classification problem to distinguish between a signal process which produces Higgs bosons and a background process which does not.\n",
    "\n",
    "> The data has been produced using Monte Carlo simulations. The first 21 features (columns 2-22) are kinematic properties measured by the particle detectors in the accelerator. The last seven features are functions of the first 21 features; these are high-level features derived by physicists to help discriminate between the two classes. There is an interest in using deep learning methods to obviate the need for physicists to manually develop such features. Benchmark results using Bayesian Decision Trees from a standard physics package and 5-layer neural networks are presented in the original paper. The last 500,000 examples are used as a test set. [1]"
   ]
  },
  {
   "cell_type": "markdown",
   "metadata": {},
   "source": [
    "# Methods\n",
    "\n",
    "## Setup and Data Import\n",
    "\n",
    "First, a Tensorflow Keras environment needed to be created. I cannot overemphasize the great effort put to have a workable environment, which was achieved thanks to the advice of Prof. Slater and the guidance provided in '*Set up Anaconda, Jupyter Notebook, Tensorflow for Deep Learning*' [2]"
   ]
  },
  {
   "cell_type": "code",
   "execution_count": 1,
   "metadata": {},
   "outputs": [
    {
     "name": "stderr",
     "output_type": "stream",
     "text": [
      "Using TensorFlow backend.\n"
     ]
    }
   ],
   "source": [
    "import pandas as pd\n",
    "import numpy as np\n",
    "import matplotlib.pyplot as plt\n",
    "import keras"
   ]
  },
  {
   "cell_type": "code",
   "execution_count": 2,
   "metadata": {},
   "outputs": [],
   "source": [
    "from keras.models import Sequential\n",
    "from keras.layers.core import Dense, Dropout, Activation, Flatten\n",
    "from keras.optimizers import SGD, Adam, RMSprop, Adagrad\n",
    "from sklearn.metrics import roc_auc_score"
   ]
  },
  {
   "cell_type": "code",
   "execution_count": 3,
   "metadata": {},
   "outputs": [],
   "source": [
    "N=1050000. #Change this line adjust the number of rows. \n",
    "data=pd.read_csv(\"HIGGS.csv\",nrows=N,header=None)\n",
    "test_data=pd.read_csv(\"HIGGS.csv\",nrows=500000,header=None,skiprows=1050000)"
   ]
  },
  {
   "cell_type": "code",
   "execution_count": 4,
   "metadata": {},
   "outputs": [
    {
     "data": {
      "text/html": [
       "<div>\n",
       "<style scoped>\n",
       "    .dataframe tbody tr th:only-of-type {\n",
       "        vertical-align: middle;\n",
       "    }\n",
       "\n",
       "    .dataframe tbody tr th {\n",
       "        vertical-align: top;\n",
       "    }\n",
       "\n",
       "    .dataframe thead th {\n",
       "        text-align: right;\n",
       "    }\n",
       "</style>\n",
       "<table border=\"1\" class=\"dataframe\">\n",
       "  <thead>\n",
       "    <tr style=\"text-align: right;\">\n",
       "      <th></th>\n",
       "      <th>0</th>\n",
       "      <th>1</th>\n",
       "      <th>2</th>\n",
       "      <th>3</th>\n",
       "      <th>4</th>\n",
       "      <th>5</th>\n",
       "      <th>6</th>\n",
       "      <th>7</th>\n",
       "      <th>8</th>\n",
       "      <th>9</th>\n",
       "      <th>...</th>\n",
       "      <th>19</th>\n",
       "      <th>20</th>\n",
       "      <th>21</th>\n",
       "      <th>22</th>\n",
       "      <th>23</th>\n",
       "      <th>24</th>\n",
       "      <th>25</th>\n",
       "      <th>26</th>\n",
       "      <th>27</th>\n",
       "      <th>28</th>\n",
       "    </tr>\n",
       "  </thead>\n",
       "  <tbody>\n",
       "    <tr>\n",
       "      <th>0</th>\n",
       "      <td>1.0</td>\n",
       "      <td>0.869293</td>\n",
       "      <td>-0.635082</td>\n",
       "      <td>0.225690</td>\n",
       "      <td>0.327470</td>\n",
       "      <td>-0.689993</td>\n",
       "      <td>0.754202</td>\n",
       "      <td>-0.248573</td>\n",
       "      <td>-1.092064</td>\n",
       "      <td>0.000000</td>\n",
       "      <td>...</td>\n",
       "      <td>-0.010455</td>\n",
       "      <td>-0.045767</td>\n",
       "      <td>3.101961</td>\n",
       "      <td>1.353760</td>\n",
       "      <td>0.979563</td>\n",
       "      <td>0.978076</td>\n",
       "      <td>0.920005</td>\n",
       "      <td>0.721657</td>\n",
       "      <td>0.988751</td>\n",
       "      <td>0.876678</td>\n",
       "    </tr>\n",
       "    <tr>\n",
       "      <th>1</th>\n",
       "      <td>1.0</td>\n",
       "      <td>0.907542</td>\n",
       "      <td>0.329147</td>\n",
       "      <td>0.359412</td>\n",
       "      <td>1.497970</td>\n",
       "      <td>-0.313010</td>\n",
       "      <td>1.095531</td>\n",
       "      <td>-0.557525</td>\n",
       "      <td>-1.588230</td>\n",
       "      <td>2.173076</td>\n",
       "      <td>...</td>\n",
       "      <td>-1.138930</td>\n",
       "      <td>-0.000819</td>\n",
       "      <td>0.000000</td>\n",
       "      <td>0.302220</td>\n",
       "      <td>0.833048</td>\n",
       "      <td>0.985700</td>\n",
       "      <td>0.978098</td>\n",
       "      <td>0.779732</td>\n",
       "      <td>0.992356</td>\n",
       "      <td>0.798343</td>\n",
       "    </tr>\n",
       "    <tr>\n",
       "      <th>2</th>\n",
       "      <td>1.0</td>\n",
       "      <td>0.798835</td>\n",
       "      <td>1.470639</td>\n",
       "      <td>-1.635975</td>\n",
       "      <td>0.453773</td>\n",
       "      <td>0.425629</td>\n",
       "      <td>1.104875</td>\n",
       "      <td>1.282322</td>\n",
       "      <td>1.381664</td>\n",
       "      <td>0.000000</td>\n",
       "      <td>...</td>\n",
       "      <td>1.128848</td>\n",
       "      <td>0.900461</td>\n",
       "      <td>0.000000</td>\n",
       "      <td>0.909753</td>\n",
       "      <td>1.108330</td>\n",
       "      <td>0.985692</td>\n",
       "      <td>0.951331</td>\n",
       "      <td>0.803252</td>\n",
       "      <td>0.865924</td>\n",
       "      <td>0.780118</td>\n",
       "    </tr>\n",
       "    <tr>\n",
       "      <th>3</th>\n",
       "      <td>0.0</td>\n",
       "      <td>1.344385</td>\n",
       "      <td>-0.876626</td>\n",
       "      <td>0.935913</td>\n",
       "      <td>1.992050</td>\n",
       "      <td>0.882454</td>\n",
       "      <td>1.786066</td>\n",
       "      <td>-1.646778</td>\n",
       "      <td>-0.942383</td>\n",
       "      <td>0.000000</td>\n",
       "      <td>...</td>\n",
       "      <td>-0.678379</td>\n",
       "      <td>-1.360356</td>\n",
       "      <td>0.000000</td>\n",
       "      <td>0.946652</td>\n",
       "      <td>1.028704</td>\n",
       "      <td>0.998656</td>\n",
       "      <td>0.728281</td>\n",
       "      <td>0.869200</td>\n",
       "      <td>1.026736</td>\n",
       "      <td>0.957904</td>\n",
       "    </tr>\n",
       "    <tr>\n",
       "      <th>4</th>\n",
       "      <td>1.0</td>\n",
       "      <td>1.105009</td>\n",
       "      <td>0.321356</td>\n",
       "      <td>1.522401</td>\n",
       "      <td>0.882808</td>\n",
       "      <td>-1.205349</td>\n",
       "      <td>0.681466</td>\n",
       "      <td>-1.070464</td>\n",
       "      <td>-0.921871</td>\n",
       "      <td>0.000000</td>\n",
       "      <td>...</td>\n",
       "      <td>-0.373566</td>\n",
       "      <td>0.113041</td>\n",
       "      <td>0.000000</td>\n",
       "      <td>0.755856</td>\n",
       "      <td>1.361057</td>\n",
       "      <td>0.986610</td>\n",
       "      <td>0.838085</td>\n",
       "      <td>1.133295</td>\n",
       "      <td>0.872245</td>\n",
       "      <td>0.808487</td>\n",
       "    </tr>\n",
       "  </tbody>\n",
       "</table>\n",
       "<p>5 rows × 29 columns</p>\n",
       "</div>"
      ],
      "text/plain": [
       "    0         1         2         3         4         5         6         7   \\\n",
       "0  1.0  0.869293 -0.635082  0.225690  0.327470 -0.689993  0.754202 -0.248573   \n",
       "1  1.0  0.907542  0.329147  0.359412  1.497970 -0.313010  1.095531 -0.557525   \n",
       "2  1.0  0.798835  1.470639 -1.635975  0.453773  0.425629  1.104875  1.282322   \n",
       "3  0.0  1.344385 -0.876626  0.935913  1.992050  0.882454  1.786066 -1.646778   \n",
       "4  1.0  1.105009  0.321356  1.522401  0.882808 -1.205349  0.681466 -1.070464   \n",
       "\n",
       "         8         9   ...        19        20        21        22        23  \\\n",
       "0 -1.092064  0.000000  ... -0.010455 -0.045767  3.101961  1.353760  0.979563   \n",
       "1 -1.588230  2.173076  ... -1.138930 -0.000819  0.000000  0.302220  0.833048   \n",
       "2  1.381664  0.000000  ...  1.128848  0.900461  0.000000  0.909753  1.108330   \n",
       "3 -0.942383  0.000000  ... -0.678379 -1.360356  0.000000  0.946652  1.028704   \n",
       "4 -0.921871  0.000000  ... -0.373566  0.113041  0.000000  0.755856  1.361057   \n",
       "\n",
       "         24        25        26        27        28  \n",
       "0  0.978076  0.920005  0.721657  0.988751  0.876678  \n",
       "1  0.985700  0.978098  0.779732  0.992356  0.798343  \n",
       "2  0.985692  0.951331  0.803252  0.865924  0.780118  \n",
       "3  0.998656  0.728281  0.869200  1.026736  0.957904  \n",
       "4  0.986610  0.838085  1.133295  0.872245  0.808487  \n",
       "\n",
       "[5 rows x 29 columns]"
      ]
     },
     "execution_count": 4,
     "metadata": {},
     "output_type": "execute_result"
    }
   ],
   "source": [
    "data.head()"
   ]
  },
  {
   "cell_type": "code",
   "execution_count": 5,
   "metadata": {},
   "outputs": [
    {
     "data": {
      "text/html": [
       "<div>\n",
       "<style scoped>\n",
       "    .dataframe tbody tr th:only-of-type {\n",
       "        vertical-align: middle;\n",
       "    }\n",
       "\n",
       "    .dataframe tbody tr th {\n",
       "        vertical-align: top;\n",
       "    }\n",
       "\n",
       "    .dataframe thead th {\n",
       "        text-align: right;\n",
       "    }\n",
       "</style>\n",
       "<table border=\"1\" class=\"dataframe\">\n",
       "  <thead>\n",
       "    <tr style=\"text-align: right;\">\n",
       "      <th></th>\n",
       "      <th>0</th>\n",
       "      <th>1</th>\n",
       "      <th>2</th>\n",
       "      <th>3</th>\n",
       "      <th>4</th>\n",
       "      <th>5</th>\n",
       "      <th>6</th>\n",
       "      <th>7</th>\n",
       "      <th>8</th>\n",
       "      <th>9</th>\n",
       "      <th>...</th>\n",
       "      <th>19</th>\n",
       "      <th>20</th>\n",
       "      <th>21</th>\n",
       "      <th>22</th>\n",
       "      <th>23</th>\n",
       "      <th>24</th>\n",
       "      <th>25</th>\n",
       "      <th>26</th>\n",
       "      <th>27</th>\n",
       "      <th>28</th>\n",
       "    </tr>\n",
       "  </thead>\n",
       "  <tbody>\n",
       "    <tr>\n",
       "      <th>count</th>\n",
       "      <td>1.050000e+06</td>\n",
       "      <td>1.050000e+06</td>\n",
       "      <td>1.050000e+06</td>\n",
       "      <td>1.050000e+06</td>\n",
       "      <td>1.050000e+06</td>\n",
       "      <td>1.050000e+06</td>\n",
       "      <td>1.050000e+06</td>\n",
       "      <td>1.050000e+06</td>\n",
       "      <td>1.050000e+06</td>\n",
       "      <td>1.050000e+06</td>\n",
       "      <td>...</td>\n",
       "      <td>1.050000e+06</td>\n",
       "      <td>1.050000e+06</td>\n",
       "      <td>1.050000e+06</td>\n",
       "      <td>1.050000e+06</td>\n",
       "      <td>1.050000e+06</td>\n",
       "      <td>1.050000e+06</td>\n",
       "      <td>1.050000e+06</td>\n",
       "      <td>1.050000e+06</td>\n",
       "      <td>1.050000e+06</td>\n",
       "      <td>1.050000e+06</td>\n",
       "    </tr>\n",
       "    <tr>\n",
       "      <th>mean</th>\n",
       "      <td>5.296190e-01</td>\n",
       "      <td>9.915832e-01</td>\n",
       "      <td>7.197975e-04</td>\n",
       "      <td>-4.485629e-04</td>\n",
       "      <td>9.982084e-01</td>\n",
       "      <td>-7.806863e-04</td>\n",
       "      <td>9.907035e-01</td>\n",
       "      <td>-7.582857e-04</td>\n",
       "      <td>4.148951e-04</td>\n",
       "      <td>1.000331e+00</td>\n",
       "      <td>...</td>\n",
       "      <td>-4.109631e-04</td>\n",
       "      <td>-1.580198e-03</td>\n",
       "      <td>9.982186e-01</td>\n",
       "      <td>1.034462e+00</td>\n",
       "      <td>1.024987e+00</td>\n",
       "      <td>1.050500e+00</td>\n",
       "      <td>1.009884e+00</td>\n",
       "      <td>9.732704e-01</td>\n",
       "      <td>1.033413e+00</td>\n",
       "      <td>9.599648e-01</td>\n",
       "    </tr>\n",
       "    <tr>\n",
       "      <th>std</th>\n",
       "      <td>4.991222e-01</td>\n",
       "      <td>5.649974e-01</td>\n",
       "      <td>1.008404e+00</td>\n",
       "      <td>1.005799e+00</td>\n",
       "      <td>5.991746e-01</td>\n",
       "      <td>1.006752e+00</td>\n",
       "      <td>4.751551e-01</td>\n",
       "      <td>1.010290e+00</td>\n",
       "      <td>1.006210e+00</td>\n",
       "      <td>1.027721e+00</td>\n",
       "      <td>...</td>\n",
       "      <td>1.007888e+00</td>\n",
       "      <td>1.005828e+00</td>\n",
       "      <td>1.399447e+00</td>\n",
       "      <td>6.728666e-01</td>\n",
       "      <td>3.800901e-01</td>\n",
       "      <td>1.642851e-01</td>\n",
       "      <td>3.980071e-01</td>\n",
       "      <td>5.252274e-01</td>\n",
       "      <td>3.651356e-01</td>\n",
       "      <td>3.132762e-01</td>\n",
       "    </tr>\n",
       "    <tr>\n",
       "      <th>min</th>\n",
       "      <td>0.000000e+00</td>\n",
       "      <td>2.746966e-01</td>\n",
       "      <td>-2.434976e+00</td>\n",
       "      <td>-1.742508e+00</td>\n",
       "      <td>6.259872e-04</td>\n",
       "      <td>-1.743944e+00</td>\n",
       "      <td>1.386017e-01</td>\n",
       "      <td>-2.969725e+00</td>\n",
       "      <td>-1.741237e+00</td>\n",
       "      <td>0.000000e+00</td>\n",
       "      <td>...</td>\n",
       "      <td>-2.497265e+00</td>\n",
       "      <td>-1.742691e+00</td>\n",
       "      <td>0.000000e+00</td>\n",
       "      <td>1.011684e-01</td>\n",
       "      <td>2.347527e-01</td>\n",
       "      <td>9.220192e-02</td>\n",
       "      <td>1.574726e-01</td>\n",
       "      <td>4.812501e-02</td>\n",
       "      <td>3.033497e-01</td>\n",
       "      <td>3.509388e-01</td>\n",
       "    </tr>\n",
       "    <tr>\n",
       "      <th>25%</th>\n",
       "      <td>0.000000e+00</td>\n",
       "      <td>5.907533e-01</td>\n",
       "      <td>-7.363746e-01</td>\n",
       "      <td>-8.719308e-01</td>\n",
       "      <td>5.762861e-01</td>\n",
       "      <td>-8.718935e-01</td>\n",
       "      <td>6.786263e-01</td>\n",
       "      <td>-6.882352e-01</td>\n",
       "      <td>-8.680962e-01</td>\n",
       "      <td>0.000000e+00</td>\n",
       "      <td>...</td>\n",
       "      <td>-7.141902e-01</td>\n",
       "      <td>-8.720338e-01</td>\n",
       "      <td>0.000000e+00</td>\n",
       "      <td>7.907532e-01</td>\n",
       "      <td>8.463601e-01</td>\n",
       "      <td>9.857513e-01</td>\n",
       "      <td>7.673170e-01</td>\n",
       "      <td>6.739470e-01</td>\n",
       "      <td>8.193815e-01</td>\n",
       "      <td>7.703798e-01</td>\n",
       "    </tr>\n",
       "    <tr>\n",
       "      <th>50%</th>\n",
       "      <td>1.000000e+00</td>\n",
       "      <td>8.537375e-01</td>\n",
       "      <td>9.198132e-04</td>\n",
       "      <td>1.526303e-03</td>\n",
       "      <td>8.916285e-01</td>\n",
       "      <td>-1.136021e-03</td>\n",
       "      <td>8.942697e-01</td>\n",
       "      <td>-1.015666e-03</td>\n",
       "      <td>7.152493e-04</td>\n",
       "      <td>1.086538e+00</td>\n",
       "      <td>...</td>\n",
       "      <td>3.721330e-04</td>\n",
       "      <td>-5.258590e-03</td>\n",
       "      <td>0.000000e+00</td>\n",
       "      <td>8.949573e-01</td>\n",
       "      <td>9.506129e-01</td>\n",
       "      <td>9.897675e-01</td>\n",
       "      <td>9.163983e-01</td>\n",
       "      <td>8.735931e-01</td>\n",
       "      <td>9.475113e-01</td>\n",
       "      <td>8.718547e-01</td>\n",
       "    </tr>\n",
       "    <tr>\n",
       "      <th>75%</th>\n",
       "      <td>1.000000e+00</td>\n",
       "      <td>1.236958e+00</td>\n",
       "      <td>7.382142e-01</td>\n",
       "      <td>8.693294e-01</td>\n",
       "      <td>1.293289e+00</td>\n",
       "      <td>8.711600e-01</td>\n",
       "      <td>1.170832e+00</td>\n",
       "      <td>6.881843e-01</td>\n",
       "      <td>8.699757e-01</td>\n",
       "      <td>2.173076e+00</td>\n",
       "      <td>...</td>\n",
       "      <td>7.149345e-01</td>\n",
       "      <td>8.693858e-01</td>\n",
       "      <td>3.101961e+00</td>\n",
       "      <td>1.024431e+00</td>\n",
       "      <td>1.083510e+00</td>\n",
       "      <td>1.020140e+00</td>\n",
       "      <td>1.142226e+00</td>\n",
       "      <td>1.139750e+00</td>\n",
       "      <td>1.140837e+00</td>\n",
       "      <td>1.059417e+00</td>\n",
       "    </tr>\n",
       "    <tr>\n",
       "      <th>max</th>\n",
       "      <td>1.000000e+00</td>\n",
       "      <td>8.711782e+00</td>\n",
       "      <td>2.434868e+00</td>\n",
       "      <td>1.743236e+00</td>\n",
       "      <td>9.900929e+00</td>\n",
       "      <td>1.743257e+00</td>\n",
       "      <td>8.382610e+00</td>\n",
       "      <td>2.969674e+00</td>\n",
       "      <td>1.741454e+00</td>\n",
       "      <td>2.173076e+00</td>\n",
       "      <td>...</td>\n",
       "      <td>2.498009e+00</td>\n",
       "      <td>1.743372e+00</td>\n",
       "      <td>3.101961e+00</td>\n",
       "      <td>3.107619e+01</td>\n",
       "      <td>1.563786e+01</td>\n",
       "      <td>5.921233e+00</td>\n",
       "      <td>1.079409e+01</td>\n",
       "      <td>1.373569e+01</td>\n",
       "      <td>8.779915e+00</td>\n",
       "      <td>6.259156e+00</td>\n",
       "    </tr>\n",
       "  </tbody>\n",
       "</table>\n",
       "<p>8 rows × 29 columns</p>\n",
       "</div>"
      ],
      "text/plain": [
       "                 0             1             2             3             4   \\\n",
       "count  1.050000e+06  1.050000e+06  1.050000e+06  1.050000e+06  1.050000e+06   \n",
       "mean   5.296190e-01  9.915832e-01  7.197975e-04 -4.485629e-04  9.982084e-01   \n",
       "std    4.991222e-01  5.649974e-01  1.008404e+00  1.005799e+00  5.991746e-01   \n",
       "min    0.000000e+00  2.746966e-01 -2.434976e+00 -1.742508e+00  6.259872e-04   \n",
       "25%    0.000000e+00  5.907533e-01 -7.363746e-01 -8.719308e-01  5.762861e-01   \n",
       "50%    1.000000e+00  8.537375e-01  9.198132e-04  1.526303e-03  8.916285e-01   \n",
       "75%    1.000000e+00  1.236958e+00  7.382142e-01  8.693294e-01  1.293289e+00   \n",
       "max    1.000000e+00  8.711782e+00  2.434868e+00  1.743236e+00  9.900929e+00   \n",
       "\n",
       "                 5             6             7             8             9   \\\n",
       "count  1.050000e+06  1.050000e+06  1.050000e+06  1.050000e+06  1.050000e+06   \n",
       "mean  -7.806863e-04  9.907035e-01 -7.582857e-04  4.148951e-04  1.000331e+00   \n",
       "std    1.006752e+00  4.751551e-01  1.010290e+00  1.006210e+00  1.027721e+00   \n",
       "min   -1.743944e+00  1.386017e-01 -2.969725e+00 -1.741237e+00  0.000000e+00   \n",
       "25%   -8.718935e-01  6.786263e-01 -6.882352e-01 -8.680962e-01  0.000000e+00   \n",
       "50%   -1.136021e-03  8.942697e-01 -1.015666e-03  7.152493e-04  1.086538e+00   \n",
       "75%    8.711600e-01  1.170832e+00  6.881843e-01  8.699757e-01  2.173076e+00   \n",
       "max    1.743257e+00  8.382610e+00  2.969674e+00  1.741454e+00  2.173076e+00   \n",
       "\n",
       "       ...            19            20            21            22  \\\n",
       "count  ...  1.050000e+06  1.050000e+06  1.050000e+06  1.050000e+06   \n",
       "mean   ... -4.109631e-04 -1.580198e-03  9.982186e-01  1.034462e+00   \n",
       "std    ...  1.007888e+00  1.005828e+00  1.399447e+00  6.728666e-01   \n",
       "min    ... -2.497265e+00 -1.742691e+00  0.000000e+00  1.011684e-01   \n",
       "25%    ... -7.141902e-01 -8.720338e-01  0.000000e+00  7.907532e-01   \n",
       "50%    ...  3.721330e-04 -5.258590e-03  0.000000e+00  8.949573e-01   \n",
       "75%    ...  7.149345e-01  8.693858e-01  3.101961e+00  1.024431e+00   \n",
       "max    ...  2.498009e+00  1.743372e+00  3.101961e+00  3.107619e+01   \n",
       "\n",
       "                 23            24            25            26            27  \\\n",
       "count  1.050000e+06  1.050000e+06  1.050000e+06  1.050000e+06  1.050000e+06   \n",
       "mean   1.024987e+00  1.050500e+00  1.009884e+00  9.732704e-01  1.033413e+00   \n",
       "std    3.800901e-01  1.642851e-01  3.980071e-01  5.252274e-01  3.651356e-01   \n",
       "min    2.347527e-01  9.220192e-02  1.574726e-01  4.812501e-02  3.033497e-01   \n",
       "25%    8.463601e-01  9.857513e-01  7.673170e-01  6.739470e-01  8.193815e-01   \n",
       "50%    9.506129e-01  9.897675e-01  9.163983e-01  8.735931e-01  9.475113e-01   \n",
       "75%    1.083510e+00  1.020140e+00  1.142226e+00  1.139750e+00  1.140837e+00   \n",
       "max    1.563786e+01  5.921233e+00  1.079409e+01  1.373569e+01  8.779915e+00   \n",
       "\n",
       "                 28  \n",
       "count  1.050000e+06  \n",
       "mean   9.599648e-01  \n",
       "std    3.132762e-01  \n",
       "min    3.509388e-01  \n",
       "25%    7.703798e-01  \n",
       "50%    8.718547e-01  \n",
       "75%    1.059417e+00  \n",
       "max    6.259156e+00  \n",
       "\n",
       "[8 rows x 29 columns]"
      ]
     },
     "execution_count": 5,
     "metadata": {},
     "output_type": "execute_result"
    }
   ],
   "source": [
    "data.describe()"
   ]
  },
  {
   "cell_type": "code",
   "execution_count": 6,
   "metadata": {},
   "outputs": [],
   "source": [
    "y = np.array(data.loc[:,0])\n",
    "x = np.array(data.loc[:,1:])\n",
    "x_test = np.array(test_data.loc[:,1:])\n",
    "y_test = np.array(test_data.loc[:,0])"
   ]
  },
  {
   "cell_type": "markdown",
   "metadata": {},
   "source": [
    "## Base Model"
   ]
  },
  {
   "cell_type": "code",
   "execution_count": 7,
   "metadata": {},
   "outputs": [
    {
     "name": "stdout",
     "output_type": "stream",
     "text": [
      "WARNING:tensorflow:From /Users/GS7271/anaconda2/envs/tensorflow_env/lib/python3.6/site-packages/tensorflow/python/framework/op_def_library.py:263: colocate_with (from tensorflow.python.framework.ops) is deprecated and will be removed in a future version.\n",
      "Instructions for updating:\n",
      "Colocations handled automatically by placer.\n",
      "WARNING:tensorflow:From /Users/GS7271/anaconda2/envs/tensorflow_env/lib/python3.6/site-packages/keras/backend/tensorflow_backend.py:3445: calling dropout (from tensorflow.python.ops.nn_ops) with keep_prob is deprecated and will be removed in a future version.\n",
      "Instructions for updating:\n",
      "Please use `rate` instead of `keep_prob`. Rate should be set to `rate = 1 - keep_prob`.\n"
     ]
    }
   ],
   "source": [
    "model = Sequential()\n",
    "model.add(Dense(50, input_dim=x.shape[1], kernel_initializer='uniform')) # X_train.shape[1] == 28 here\n",
    "model.add(Activation('sigmoid'))\n",
    "model.add(Dropout(0.10))\n",
    "model.add(Dense(50, kernel_initializer='uniform'))\n",
    "model.add(Activation('sigmoid'))\n",
    "model.add(Dropout(0.10))\n",
    "model.add(Dense(1, kernel_initializer='uniform')) \n",
    "model.add(Activation('sigmoid'))"
   ]
  },
  {
   "cell_type": "code",
   "execution_count": 8,
   "metadata": {},
   "outputs": [],
   "source": [
    "sgd = SGD(lr=0.1, decay=1e-6, momentum=0.9, nesterov=True)\n",
    "model.compile(loss='binary_crossentropy', metrics=['accuracy'], optimizer=sgd)"
   ]
  },
  {
   "cell_type": "code",
   "execution_count": 9,
   "metadata": {},
   "outputs": [
    {
     "name": "stdout",
     "output_type": "stream",
     "text": [
      "WARNING:tensorflow:From /Users/GS7271/anaconda2/envs/tensorflow_env/lib/python3.6/site-packages/tensorflow/python/ops/math_ops.py:3066: to_int32 (from tensorflow.python.ops.math_ops) is deprecated and will be removed in a future version.\n",
      "Instructions for updating:\n",
      "Use tf.cast instead.\n",
      "Epoch 1/5\n",
      "1050000/1050000 [==============================] - 20s 19us/step - loss: 0.6918 - acc: 0.5281\n",
      "Epoch 2/5\n",
      "1050000/1050000 [==============================] - 20s 19us/step - loss: 0.6918 - acc: 0.5283\n",
      "Epoch 3/5\n",
      "1050000/1050000 [==============================] - 20s 19us/step - loss: 0.6916 - acc: 0.5281\n",
      "Epoch 4/5\n",
      "1050000/1050000 [==============================] - 21s 20us/step - loss: 0.6770 - acc: 0.5655\n",
      "Epoch 5/5\n",
      "1050000/1050000 [==============================] - 21s 20us/step - loss: 0.6545 - acc: 0.6083\n",
      "0.6697949124675913\n"
     ]
    }
   ],
   "source": [
    "model.fit(x, y, epochs=5, batch_size=1000)\n",
    "model_ROC = roc_auc_score(y_test,model.predict(x_test))\n",
    "print(model_ROC)"
   ]
  },
  {
   "cell_type": "code",
   "execution_count": 10,
   "metadata": {},
   "outputs": [
    {
     "name": "stdout",
     "output_type": "stream",
     "text": [
      "_________________________________________________________________\n",
      "Layer (type)                 Output Shape              Param #   \n",
      "=================================================================\n",
      "dense_1 (Dense)              (None, 50)                1450      \n",
      "_________________________________________________________________\n",
      "activation_1 (Activation)    (None, 50)                0         \n",
      "_________________________________________________________________\n",
      "dropout_1 (Dropout)          (None, 50)                0         \n",
      "_________________________________________________________________\n",
      "dense_2 (Dense)              (None, 50)                2550      \n",
      "_________________________________________________________________\n",
      "activation_2 (Activation)    (None, 50)                0         \n",
      "_________________________________________________________________\n",
      "dropout_2 (Dropout)          (None, 50)                0         \n",
      "_________________________________________________________________\n",
      "dense_3 (Dense)              (None, 1)                 51        \n",
      "_________________________________________________________________\n",
      "activation_3 (Activation)    (None, 1)                 0         \n",
      "=================================================================\n",
      "Total params: 4,051\n",
      "Trainable params: 4,051\n",
      "Non-trainable params: 0\n",
      "_________________________________________________________________\n"
     ]
    }
   ],
   "source": [
    "model.summary()"
   ]
  },
  {
   "cell_type": "markdown",
   "metadata": {},
   "source": [
    "## Architectures\n",
    "\n",
    "### Model 2: Adding Neurons"
   ]
  },
  {
   "cell_type": "code",
   "execution_count": 11,
   "metadata": {},
   "outputs": [],
   "source": [
    "model2 = Sequential()\n",
    "model2.add(Dense(100, input_dim=x.shape[1], kernel_initializer='uniform')) # X_train.shape[1] == 28 here\n",
    "model2.add(Activation('sigmoid'))\n",
    "model2.add(Dropout(0.10))\n",
    "model2.add(Dense(100, kernel_initializer='uniform'))\n",
    "model2.add(Activation('sigmoid'))\n",
    "model2.add(Dropout(0.10))\n",
    "model2.add(Dense(1, kernel_initializer='uniform')) \n",
    "model2.add(Activation('sigmoid'))"
   ]
  },
  {
   "cell_type": "code",
   "execution_count": 12,
   "metadata": {},
   "outputs": [],
   "source": [
    "sgd = SGD(lr=0.1, decay=1e-6, momentum=0.9, nesterov=True)\n",
    "model2.compile(loss='binary_crossentropy', metrics=['accuracy'], optimizer=sgd)"
   ]
  },
  {
   "cell_type": "code",
   "execution_count": 13,
   "metadata": {},
   "outputs": [
    {
     "name": "stdout",
     "output_type": "stream",
     "text": [
      "Epoch 1/5\n",
      "1050000/1050000 [==============================] - 37s 36us/step - loss: 0.6924 - acc: 0.5242\n",
      "Epoch 2/5\n",
      "1050000/1050000 [==============================] - 37s 35us/step - loss: 0.6906 - acc: 0.5309\n",
      "Epoch 3/5\n",
      "1050000/1050000 [==============================] - 38s 36us/step - loss: 0.6617 - acc: 0.5964\n",
      "Epoch 4/5\n",
      "1050000/1050000 [==============================] - 37s 35us/step - loss: 0.6494 - acc: 0.6149\n",
      "Epoch 5/5\n",
      "1050000/1050000 [==============================] - 37s 35us/step - loss: 0.6440 - acc: 0.6212\n",
      "0.6803245192248515\n"
     ]
    }
   ],
   "source": [
    "model2.fit(x, y, epochs=5, batch_size=1000)\n",
    "model2_ROC = roc_auc_score(y_test,model2.predict(x_test))\n",
    "print(model2_ROC)"
   ]
  },
  {
   "cell_type": "code",
   "execution_count": 14,
   "metadata": {},
   "outputs": [
    {
     "name": "stdout",
     "output_type": "stream",
     "text": [
      "_________________________________________________________________\n",
      "Layer (type)                 Output Shape              Param #   \n",
      "=================================================================\n",
      "dense_4 (Dense)              (None, 100)               2900      \n",
      "_________________________________________________________________\n",
      "activation_4 (Activation)    (None, 100)               0         \n",
      "_________________________________________________________________\n",
      "dropout_3 (Dropout)          (None, 100)               0         \n",
      "_________________________________________________________________\n",
      "dense_5 (Dense)              (None, 100)               10100     \n",
      "_________________________________________________________________\n",
      "activation_5 (Activation)    (None, 100)               0         \n",
      "_________________________________________________________________\n",
      "dropout_4 (Dropout)          (None, 100)               0         \n",
      "_________________________________________________________________\n",
      "dense_6 (Dense)              (None, 1)                 101       \n",
      "_________________________________________________________________\n",
      "activation_6 (Activation)    (None, 1)                 0         \n",
      "=================================================================\n",
      "Total params: 13,101\n",
      "Trainable params: 13,101\n",
      "Non-trainable params: 0\n",
      "_________________________________________________________________\n"
     ]
    }
   ],
   "source": [
    "model2.summary()"
   ]
  },
  {
   "cell_type": "markdown",
   "metadata": {},
   "source": [
    "### Model 3: Adding 2 Layers"
   ]
  },
  {
   "cell_type": "code",
   "execution_count": 15,
   "metadata": {},
   "outputs": [],
   "source": [
    "model3 = Sequential()\n",
    "model3.add(Dense(50, input_dim=x.shape[1], kernel_initializer='uniform')) # X_train.shape[1] == 28 here\n",
    "model3.add(Activation('sigmoid'))\n",
    "model3.add(Dropout(0.10))\n",
    "model3.add(Dense(50, kernel_initializer='uniform'))\n",
    "model3.add(Activation('sigmoid'))\n",
    "model3.add(Dropout(0.10))\n",
    "model3.add(Dense(50, kernel_initializer='uniform'))\n",
    "model3.add(Activation('sigmoid'))\n",
    "model3.add(Dropout(0.10))\n",
    "model3.add(Dense(50, kernel_initializer='uniform'))\n",
    "model3.add(Activation('sigmoid'))\n",
    "model3.add(Dropout(0.10))\n",
    "model3.add(Dense(1, kernel_initializer='uniform')) \n",
    "model3.add(Activation('sigmoid'))"
   ]
  },
  {
   "cell_type": "code",
   "execution_count": 16,
   "metadata": {},
   "outputs": [],
   "source": [
    "sgd = SGD(lr=0.1, decay=1e-6, momentum=0.9, nesterov=True)\n",
    "model3.compile(loss='binary_crossentropy', metrics=['accuracy'], optimizer=sgd)"
   ]
  },
  {
   "cell_type": "code",
   "execution_count": 17,
   "metadata": {},
   "outputs": [
    {
     "name": "stdout",
     "output_type": "stream",
     "text": [
      "Epoch 1/5\n",
      "1050000/1050000 [==============================] - 42s 40us/step - loss: 0.6919 - acc: 0.5281\n",
      "Epoch 2/5\n",
      "1050000/1050000 [==============================] - 40s 38us/step - loss: 0.6919 - acc: 0.5281\n",
      "Epoch 3/5\n",
      "1050000/1050000 [==============================] - 40s 38us/step - loss: 0.6918 - acc: 0.5287\n",
      "Epoch 4/5\n",
      "1050000/1050000 [==============================] - 39s 38us/step - loss: 0.6918 - acc: 0.5284\n",
      "Epoch 5/5\n",
      "1050000/1050000 [==============================] - 40s 38us/step - loss: 0.6918 - acc: 0.5289\n",
      "0.4939073671115921\n"
     ]
    }
   ],
   "source": [
    "model3.fit(x, y, epochs=5, batch_size=1000)\n",
    "model3_ROC = roc_auc_score(y_test,model3.predict(x_test))\n",
    "print(model3_ROC)"
   ]
  },
  {
   "cell_type": "code",
   "execution_count": 18,
   "metadata": {},
   "outputs": [
    {
     "name": "stdout",
     "output_type": "stream",
     "text": [
      "_________________________________________________________________\n",
      "Layer (type)                 Output Shape              Param #   \n",
      "=================================================================\n",
      "dense_7 (Dense)              (None, 50)                1450      \n",
      "_________________________________________________________________\n",
      "activation_7 (Activation)    (None, 50)                0         \n",
      "_________________________________________________________________\n",
      "dropout_5 (Dropout)          (None, 50)                0         \n",
      "_________________________________________________________________\n",
      "dense_8 (Dense)              (None, 50)                2550      \n",
      "_________________________________________________________________\n",
      "activation_8 (Activation)    (None, 50)                0         \n",
      "_________________________________________________________________\n",
      "dropout_6 (Dropout)          (None, 50)                0         \n",
      "_________________________________________________________________\n",
      "dense_9 (Dense)              (None, 50)                2550      \n",
      "_________________________________________________________________\n",
      "activation_9 (Activation)    (None, 50)                0         \n",
      "_________________________________________________________________\n",
      "dropout_7 (Dropout)          (None, 50)                0         \n",
      "_________________________________________________________________\n",
      "dense_10 (Dense)             (None, 50)                2550      \n",
      "_________________________________________________________________\n",
      "activation_10 (Activation)   (None, 50)                0         \n",
      "_________________________________________________________________\n",
      "dropout_8 (Dropout)          (None, 50)                0         \n",
      "_________________________________________________________________\n",
      "dense_11 (Dense)             (None, 1)                 51        \n",
      "_________________________________________________________________\n",
      "activation_11 (Activation)   (None, 1)                 0         \n",
      "=================================================================\n",
      "Total params: 9,151\n",
      "Trainable params: 9,151\n",
      "Non-trainable params: 0\n",
      "_________________________________________________________________\n"
     ]
    }
   ],
   "source": [
    "model3.summary()"
   ]
  },
  {
   "cell_type": "markdown",
   "metadata": {},
   "source": [
    "### Model 4: Adding Neurons less One Layer"
   ]
  },
  {
   "cell_type": "code",
   "execution_count": 19,
   "metadata": {},
   "outputs": [],
   "source": [
    "model4 = Sequential()\n",
    "model4.add(Dense(250, input_dim=x.shape[1], kernel_initializer='uniform')) # X_train.shape[1] == 28 here\n",
    "model4.add(Activation('sigmoid'))\n",
    "model4.add(Dropout(0.10))\n",
    "model4.add(Dense(1, kernel_initializer='uniform')) \n",
    "model4.add(Activation('sigmoid'))"
   ]
  },
  {
   "cell_type": "code",
   "execution_count": 20,
   "metadata": {},
   "outputs": [],
   "source": [
    "sgd = SGD(lr=0.1, decay=1e-6, momentum=0.9, nesterov=True)\n",
    "model4.compile(loss='binary_crossentropy', metrics=['accuracy'], optimizer=sgd)"
   ]
  },
  {
   "cell_type": "code",
   "execution_count": 21,
   "metadata": {},
   "outputs": [
    {
     "name": "stdout",
     "output_type": "stream",
     "text": [
      "Epoch 1/5\n",
      "1050000/1050000 [==============================] - 26s 25us/step - loss: 0.6658 - acc: 0.5931\n",
      "Epoch 2/5\n",
      "1050000/1050000 [==============================] - 27s 26us/step - loss: 0.6478 - acc: 0.6193\n",
      "Epoch 3/5\n",
      "1050000/1050000 [==============================] - 25s 24us/step - loss: 0.6403 - acc: 0.6309\n",
      "Epoch 4/5\n",
      "1050000/1050000 [==============================] - 27s 25us/step - loss: 0.6319 - acc: 0.6438\n",
      "Epoch 5/5\n",
      "1050000/1050000 [==============================] - 25s 24us/step - loss: 0.6251 - acc: 0.6521\n",
      "0.7251389819070889\n"
     ]
    }
   ],
   "source": [
    "model4.fit(x, y, epochs=5, batch_size=1000)\n",
    "model4_ROC = roc_auc_score(y_test,model4.predict(x_test))\n",
    "print(model4_ROC)"
   ]
  },
  {
   "cell_type": "code",
   "execution_count": 22,
   "metadata": {},
   "outputs": [
    {
     "name": "stdout",
     "output_type": "stream",
     "text": [
      "_________________________________________________________________\n",
      "Layer (type)                 Output Shape              Param #   \n",
      "=================================================================\n",
      "dense_12 (Dense)             (None, 250)               7250      \n",
      "_________________________________________________________________\n",
      "activation_12 (Activation)   (None, 250)               0         \n",
      "_________________________________________________________________\n",
      "dropout_9 (Dropout)          (None, 250)               0         \n",
      "_________________________________________________________________\n",
      "dense_13 (Dense)             (None, 1)                 251       \n",
      "_________________________________________________________________\n",
      "activation_13 (Activation)   (None, 1)                 0         \n",
      "=================================================================\n",
      "Total params: 7,501\n",
      "Trainable params: 7,501\n",
      "Non-trainable params: 0\n",
      "_________________________________________________________________\n"
     ]
    }
   ],
   "source": [
    "model4.summary()"
   ]
  },
  {
   "cell_type": "markdown",
   "metadata": {},
   "source": [
    "## Activation Functions\n",
    "\n",
    "### Model 2a: same as Model 2 with `activation = 'relu'`"
   ]
  },
  {
   "cell_type": "code",
   "execution_count": 23,
   "metadata": {},
   "outputs": [],
   "source": [
    "model2a = Sequential()\n",
    "model2a.add(Dense(100, input_dim=x.shape[1], kernel_initializer='uniform')) # X_train.shape[1] == 28 here\n",
    "model2a.add(Activation('relu'))\n",
    "model2a.add(Dropout(0.10))\n",
    "model2a.add(Dense(100, kernel_initializer='uniform'))\n",
    "model2a.add(Activation('relu'))\n",
    "model2a.add(Dropout(0.10))\n",
    "model2a.add(Dense(1, kernel_initializer='uniform')) \n",
    "model2a.add(Activation('sigmoid'))"
   ]
  },
  {
   "cell_type": "code",
   "execution_count": 24,
   "metadata": {},
   "outputs": [],
   "source": [
    "sgd = SGD(lr=0.1, decay=1e-6, momentum=0.9, nesterov=True)\n",
    "model2a.compile(loss='binary_crossentropy', metrics=['accuracy'], optimizer=sgd)"
   ]
  },
  {
   "cell_type": "code",
   "execution_count": 25,
   "metadata": {},
   "outputs": [
    {
     "name": "stdout",
     "output_type": "stream",
     "text": [
      "Epoch 1/5\n",
      "1050000/1050000 [==============================] - 36s 35us/step - loss: 0.6165 - acc: 0.6515\n",
      "Epoch 2/5\n",
      "1050000/1050000 [==============================] - 36s 34us/step - loss: 0.5758 - acc: 0.6952\n",
      "Epoch 3/5\n",
      "1050000/1050000 [==============================] - 36s 34us/step - loss: 0.5627 - acc: 0.7059\n",
      "Epoch 4/5\n",
      "1050000/1050000 [==============================] - 35s 34us/step - loss: 0.5541 - acc: 0.7135\n",
      "Epoch 5/5\n",
      "1050000/1050000 [==============================] - 36s 34us/step - loss: 0.5476 - acc: 0.7180\n",
      "0.8059848388712745\n"
     ]
    }
   ],
   "source": [
    "model2a.fit(x, y, epochs=5, batch_size=1000)\n",
    "model2a_ROC = roc_auc_score(y_test,model2a.predict(x_test))\n",
    "print(model2a_ROC)"
   ]
  },
  {
   "cell_type": "markdown",
   "metadata": {},
   "source": [
    "### Model 3a: same as Model 3 with `activation = 'tanh'`"
   ]
  },
  {
   "cell_type": "code",
   "execution_count": 26,
   "metadata": {},
   "outputs": [],
   "source": [
    "model3a = Sequential()\n",
    "model3a.add(Dense(50, input_dim=x.shape[1], kernel_initializer='uniform')) # X_train.shape[1] == 28 here\n",
    "model3a.add(Activation('tanh'))\n",
    "model3a.add(Dropout(0.10))\n",
    "model3a.add(Dense(50, kernel_initializer='uniform'))\n",
    "model3a.add(Activation('tanh'))\n",
    "model3a.add(Dropout(0.10))\n",
    "model3a.add(Dense(50, kernel_initializer='uniform'))\n",
    "model3a.add(Activation('tanh'))\n",
    "model3a.add(Dropout(0.10))\n",
    "model3a.add(Dense(50, kernel_initializer='uniform'))\n",
    "model3a.add(Activation('tanh'))\n",
    "model3a.add(Dropout(0.10))\n",
    "model3a.add(Dense(1, kernel_initializer='uniform')) \n",
    "model3a.add(Activation('sigmoid'))"
   ]
  },
  {
   "cell_type": "code",
   "execution_count": 27,
   "metadata": {},
   "outputs": [],
   "source": [
    "sgd = SGD(lr=0.1, decay=1e-6, momentum=0.9, nesterov=True)\n",
    "model3a.compile(loss='binary_crossentropy', metrics=['accuracy'], optimizer=sgd)"
   ]
  },
  {
   "cell_type": "code",
   "execution_count": 28,
   "metadata": {},
   "outputs": [
    {
     "name": "stdout",
     "output_type": "stream",
     "text": [
      "Epoch 1/5\n",
      "1050000/1050000 [==============================] - 40s 38us/step - loss: 0.6790 - acc: 0.5554\n",
      "Epoch 2/5\n",
      "1050000/1050000 [==============================] - 38s 36us/step - loss: 0.6387 - acc: 0.6366\n",
      "Epoch 3/5\n",
      "1050000/1050000 [==============================] - 35s 34us/step - loss: 0.6272 - acc: 0.6506\n",
      "Epoch 4/5\n",
      "1050000/1050000 [==============================] - 41s 39us/step - loss: 0.6111 - acc: 0.6650\n",
      "Epoch 5/5\n",
      "1050000/1050000 [==============================] - 37s 35us/step - loss: 0.5981 - acc: 0.6770\n",
      "0.759545479417074\n"
     ]
    }
   ],
   "source": [
    "model3a.fit(x, y, epochs=5, batch_size=1000)\n",
    "model3a_ROC = roc_auc_score(y_test,model3a.predict(x_test))\n",
    "print(model3a_ROC)"
   ]
  },
  {
   "cell_type": "markdown",
   "metadata": {},
   "source": [
    "### Model 4a: same as Model 4 with `activation = 'relu'`"
   ]
  },
  {
   "cell_type": "code",
   "execution_count": 29,
   "metadata": {},
   "outputs": [],
   "source": [
    "model4a = Sequential()\n",
    "model4a.add(Dense(250, input_dim=x.shape[1], kernel_initializer='uniform')) # X_train.shape[1] == 28 here\n",
    "model4a.add(Activation('relu'))\n",
    "model4a.add(Dropout(0.10))\n",
    "model4a.add(Dense(1, kernel_initializer='uniform')) \n",
    "model4a.add(Activation('sigmoid'))"
   ]
  },
  {
   "cell_type": "code",
   "execution_count": 30,
   "metadata": {},
   "outputs": [],
   "source": [
    "sgd = SGD(lr=0.1, decay=1e-6, momentum=0.9, nesterov=True)\n",
    "model4a.compile(loss='binary_crossentropy', metrics=['accuracy'], optimizer=sgd)"
   ]
  },
  {
   "cell_type": "code",
   "execution_count": 31,
   "metadata": {},
   "outputs": [
    {
     "name": "stdout",
     "output_type": "stream",
     "text": [
      "Epoch 1/5\n",
      "1050000/1050000 [==============================] - 24s 23us/step - loss: 0.6137 - acc: 0.6602\n",
      "Epoch 2/5\n",
      "1050000/1050000 [==============================] - 23s 22us/step - loss: 0.5858 - acc: 0.6901\n",
      "Epoch 3/5\n",
      "1050000/1050000 [==============================] - 23s 22us/step - loss: 0.5759 - acc: 0.6988\n",
      "Epoch 4/5\n",
      "1050000/1050000 [==============================] - 24s 23us/step - loss: 0.5694 - acc: 0.7040\n",
      "Epoch 5/5\n",
      "1050000/1050000 [==============================] - 25s 24us/step - loss: 0.5656 - acc: 0.7070\n",
      "0.7903243844069884\n"
     ]
    }
   ],
   "source": [
    "model4a.fit(x, y, epochs=5, batch_size=1000)\n",
    "model4a_ROC = roc_auc_score(y_test,model4a.predict(x_test))\n",
    "print(model4a_ROC)"
   ]
  },
  {
   "cell_type": "markdown",
   "metadata": {},
   "source": [
    "## Batch Size\n",
    "\n",
    "### Model 2b: same as Model 2a with `batch_size = 100`"
   ]
  },
  {
   "cell_type": "code",
   "execution_count": 32,
   "metadata": {},
   "outputs": [],
   "source": [
    "model2b = Sequential()\n",
    "model2b.add(Dense(100, input_dim=x.shape[1], kernel_initializer='uniform')) # X_train.shape[1] == 28 here\n",
    "model2b.add(Activation('relu'))\n",
    "model2b.add(Dropout(0.10))\n",
    "model2b.add(Dense(100, kernel_initializer='uniform'))\n",
    "model2b.add(Activation('relu'))\n",
    "model2b.add(Dropout(0.10))\n",
    "model2b.add(Dense(1, kernel_initializer='uniform')) \n",
    "model2b.add(Activation('sigmoid'))"
   ]
  },
  {
   "cell_type": "code",
   "execution_count": 33,
   "metadata": {},
   "outputs": [],
   "source": [
    "sgd = SGD(lr=0.1, decay=1e-6, momentum=0.9, nesterov=True)\n",
    "model2b.compile(loss='binary_crossentropy', metrics=['accuracy'], optimizer=sgd)"
   ]
  },
  {
   "cell_type": "code",
   "execution_count": 34,
   "metadata": {},
   "outputs": [
    {
     "name": "stdout",
     "output_type": "stream",
     "text": [
      "Epoch 1/5\n",
      "1050000/1050000 [==============================] - 85s 81us/step - loss: 0.6029 - acc: 0.6710\n",
      "Epoch 2/5\n",
      "1050000/1050000 [==============================] - 81s 77us/step - loss: 0.5755 - acc: 0.6974\n",
      "Epoch 3/5\n",
      "1050000/1050000 [==============================] - 83s 79us/step - loss: 0.5651 - acc: 0.7061\n",
      "Epoch 4/5\n",
      "1050000/1050000 [==============================] - 83s 79us/step - loss: 0.5589 - acc: 0.7119\n",
      "Epoch 5/5\n",
      "1050000/1050000 [==============================] - 82s 78us/step - loss: 0.5552 - acc: 0.7143\n",
      "0.8039806677602047\n"
     ]
    }
   ],
   "source": [
    "model2b.fit(x, y, epochs=5, batch_size=100)\n",
    "model2b_ROC = roc_auc_score(y_test,model2b.predict(x_test))\n",
    "print(model2b_ROC)"
   ]
  },
  {
   "cell_type": "markdown",
   "metadata": {},
   "source": [
    "### Model 2c: same as Model 2a with `batch_size = 100000`"
   ]
  },
  {
   "cell_type": "code",
   "execution_count": 35,
   "metadata": {},
   "outputs": [],
   "source": [
    "model2c = Sequential()\n",
    "model2c.add(Dense(100, input_dim=x.shape[1], kernel_initializer='uniform')) # X_train.shape[1] == 28 here\n",
    "model2c.add(Activation('relu'))\n",
    "model2c.add(Dropout(0.10))\n",
    "model2c.add(Dense(100, kernel_initializer='uniform'))\n",
    "model2c.add(Activation('relu'))\n",
    "model2c.add(Dropout(0.10))\n",
    "model2c.add(Dense(1, kernel_initializer='uniform')) \n",
    "model2c.add(Activation('sigmoid'))"
   ]
  },
  {
   "cell_type": "code",
   "execution_count": 36,
   "metadata": {},
   "outputs": [],
   "source": [
    "sgd = SGD(lr=0.1, decay=1e-6, momentum=0.9, nesterov=True)\n",
    "model2c.compile(loss='binary_crossentropy', metrics=['accuracy'], optimizer=sgd)"
   ]
  },
  {
   "cell_type": "code",
   "execution_count": 37,
   "metadata": {},
   "outputs": [
    {
     "name": "stdout",
     "output_type": "stream",
     "text": [
      "Epoch 1/5\n",
      "1050000/1050000 [==============================] - 30s 29us/step - loss: 0.6919 - acc: 0.5296\n",
      "Epoch 2/5\n",
      "1050000/1050000 [==============================] - 29s 28us/step - loss: 0.6912 - acc: 0.5296\n",
      "Epoch 3/5\n",
      "1050000/1050000 [==============================] - 29s 28us/step - loss: 0.6909 - acc: 0.5296\n",
      "Epoch 4/5\n",
      "1050000/1050000 [==============================] - 29s 28us/step - loss: 0.6905 - acc: 0.5296\n",
      "Epoch 5/5\n",
      "1050000/1050000 [==============================] - 28s 27us/step - loss: 0.6898 - acc: 0.5297\n",
      "0.5854569689943897\n"
     ]
    }
   ],
   "source": [
    "model2c.fit(x, y, epochs=5, batch_size=100000)\n",
    "model2c_ROC = roc_auc_score(y_test,model2c.predict(x_test))\n",
    "print(model2c_ROC)"
   ]
  },
  {
   "cell_type": "markdown",
   "metadata": {},
   "source": [
    "## Kernel Initializer\n",
    "\n",
    "### Model 2d: same as Model 2a with `kernel_initializer = 'normal'`"
   ]
  },
  {
   "cell_type": "code",
   "execution_count": 38,
   "metadata": {},
   "outputs": [],
   "source": [
    "model2d = Sequential()\n",
    "model2d.add(Dense(100, input_dim=x.shape[1], kernel_initializer='uniform')) # X_train.shape[1] == 28 here\n",
    "model2d.add(Activation('relu'))\n",
    "model2d.add(Dropout(0.10))\n",
    "model2d.add(Dense(100, kernel_initializer='normal'))\n",
    "model2d.add(Activation('relu'))\n",
    "model2d.add(Dropout(0.10))\n",
    "model2d.add(Dense(1, kernel_initializer='normal')) \n",
    "model2d.add(Activation('sigmoid'))"
   ]
  },
  {
   "cell_type": "code",
   "execution_count": 39,
   "metadata": {},
   "outputs": [],
   "source": [
    "sgd = SGD(lr=0.1, decay=1e-6, momentum=0.9, nesterov=True)\n",
    "model2d.compile(loss='binary_crossentropy', metrics=['accuracy'], optimizer=sgd)"
   ]
  },
  {
   "cell_type": "code",
   "execution_count": 40,
   "metadata": {},
   "outputs": [
    {
     "name": "stdout",
     "output_type": "stream",
     "text": [
      "Epoch 1/5\n",
      "1050000/1050000 [==============================] - 37s 35us/step - loss: 0.6123 - acc: 0.6578\n",
      "Epoch 2/5\n",
      "1050000/1050000 [==============================] - 36s 34us/step - loss: 0.5742 - acc: 0.6966\n",
      "Epoch 3/5\n",
      "1050000/1050000 [==============================] - 37s 35us/step - loss: 0.5609 - acc: 0.7076\n",
      "Epoch 4/5\n",
      "1050000/1050000 [==============================] - 36s 34us/step - loss: 0.5517 - acc: 0.7144\n",
      "Epoch 5/5\n",
      "1050000/1050000 [==============================] - 36s 34us/step - loss: 0.5450 - acc: 0.7197\n",
      "0.8081034868200654\n"
     ]
    }
   ],
   "source": [
    "model2d.fit(x, y, epochs=5, batch_size=1000)\n",
    "model2d_ROC = roc_auc_score(y_test,model2d.predict(x_test))\n",
    "print(model2d_ROC)"
   ]
  },
  {
   "cell_type": "markdown",
   "metadata": {},
   "source": [
    "### Model 2e: same as Model 2a with `kernel_initializer = 'zeros'`"
   ]
  },
  {
   "cell_type": "code",
   "execution_count": 41,
   "metadata": {},
   "outputs": [],
   "source": [
    "model2e = Sequential()\n",
    "model2e.add(Dense(100, input_dim=x.shape[1], kernel_initializer='uniform')) # X_train.shape[1] == 28 here\n",
    "model2e.add(Activation('relu'))\n",
    "model2e.add(Dropout(0.10))\n",
    "model2e.add(Dense(100, kernel_initializer='zeros'))\n",
    "model2e.add(Activation('relu'))\n",
    "model2e.add(Dropout(0.10))\n",
    "model2e.add(Dense(1, kernel_initializer='zeros')) \n",
    "model2e.add(Activation('sigmoid'))"
   ]
  },
  {
   "cell_type": "code",
   "execution_count": 42,
   "metadata": {},
   "outputs": [],
   "source": [
    "sgd = SGD(lr=0.1, decay=1e-6, momentum=0.9, nesterov=True)\n",
    "model2e.compile(loss='binary_crossentropy', metrics=['accuracy'], optimizer=sgd)"
   ]
  },
  {
   "cell_type": "code",
   "execution_count": 43,
   "metadata": {},
   "outputs": [
    {
     "name": "stdout",
     "output_type": "stream",
     "text": [
      "Epoch 1/5\n",
      "1050000/1050000 [==============================] - 36s 35us/step - loss: 0.6915 - acc: 0.5296\n",
      "Epoch 2/5\n",
      "1050000/1050000 [==============================] - 35s 34us/step - loss: 0.6915 - acc: 0.5296\n",
      "Epoch 3/5\n",
      "1050000/1050000 [==============================] - 35s 34us/step - loss: 0.6914 - acc: 0.5296\n",
      "Epoch 4/5\n",
      "1050000/1050000 [==============================] - 35s 34us/step - loss: 0.6914 - acc: 0.5296\n",
      "Epoch 5/5\n",
      "1050000/1050000 [==============================] - 35s 34us/step - loss: 0.6914 - acc: 0.5296\n",
      "0.5\n"
     ]
    }
   ],
   "source": [
    "model2e.fit(x, y, epochs=5, batch_size=1000)\n",
    "model2e_ROC = roc_auc_score(y_test,model2e.predict(x_test))\n",
    "print(model2e_ROC)"
   ]
  },
  {
   "cell_type": "markdown",
   "metadata": {},
   "source": [
    "### Model 2f: same as Model 2a with `kernel_initializer = 'ones'`"
   ]
  },
  {
   "cell_type": "code",
   "execution_count": 44,
   "metadata": {},
   "outputs": [],
   "source": [
    "model2f = Sequential()\n",
    "model2f.add(Dense(100, input_dim=x.shape[1], kernel_initializer='uniform')) # X_train.shape[1] == 28 here\n",
    "model2f.add(Activation('relu'))\n",
    "model2f.add(Dropout(0.10))\n",
    "model2f.add(Dense(100, kernel_initializer='ones'))\n",
    "model2f.add(Activation('relu'))\n",
    "model2f.add(Dropout(0.10))\n",
    "model2f.add(Dense(1, kernel_initializer='ones')) \n",
    "model2f.add(Activation('sigmoid'))"
   ]
  },
  {
   "cell_type": "code",
   "execution_count": 45,
   "metadata": {},
   "outputs": [],
   "source": [
    "sgd = SGD(lr=0.1, decay=1e-6, momentum=0.9, nesterov=True)\n",
    "model2f.compile(loss='binary_crossentropy', metrics=['accuracy'], optimizer=sgd)"
   ]
  },
  {
   "cell_type": "code",
   "execution_count": 46,
   "metadata": {},
   "outputs": [
    {
     "name": "stdout",
     "output_type": "stream",
     "text": [
      "Epoch 1/5\n",
      "1050000/1050000 [==============================] - 36s 35us/step - loss: 7.4990 - acc: 0.5296\n",
      "Epoch 2/5\n",
      "1050000/1050000 [==============================] - 35s 34us/step - loss: 7.4990 - acc: 0.5296\n",
      "Epoch 3/5\n",
      "1050000/1050000 [==============================] - 35s 34us/step - loss: 7.4990 - acc: 0.5296\n",
      "Epoch 4/5\n",
      "1050000/1050000 [==============================] - 36s 34us/step - loss: 7.4990 - acc: 0.5296\n",
      "Epoch 5/5\n",
      "1050000/1050000 [==============================] - 36s 34us/step - loss: 7.4990 - acc: 0.5296\n",
      "0.5\n"
     ]
    }
   ],
   "source": [
    "model2f.fit(x, y, epochs=5, batch_size=1000)\n",
    "model2f_ROC = roc_auc_score(y_test,model2f.predict(x_test))\n",
    "print(model2f_ROC)"
   ]
  },
  {
   "cell_type": "markdown",
   "metadata": {},
   "source": [
    "## Optimizer\n",
    "\n",
    "### Model 2g: same as Model 2a with `optimizer = adam`"
   ]
  },
  {
   "cell_type": "code",
   "execution_count": 47,
   "metadata": {},
   "outputs": [],
   "source": [
    "model2g = Sequential()\n",
    "model2g.add(Dense(100, input_dim=x.shape[1], kernel_initializer='uniform')) # X_train.shape[1] == 28 here\n",
    "model2g.add(Activation('relu'))\n",
    "model2g.add(Dropout(0.10))\n",
    "model2g.add(Dense(100, kernel_initializer='uniform'))\n",
    "model2g.add(Activation('relu'))\n",
    "model2g.add(Dropout(0.10))\n",
    "model2g.add(Dense(1, kernel_initializer='uniform')) \n",
    "model2g.add(Activation('sigmoid'))"
   ]
  },
  {
   "cell_type": "code",
   "execution_count": 48,
   "metadata": {},
   "outputs": [],
   "source": [
    "adam = Adam(lr=0.001, beta_1=0.9, beta_2=0.999, epsilon=None, decay=0.0, amsgrad=False)\n",
    "model2g.compile(loss='binary_crossentropy', metrics=['accuracy'], optimizer=adam)"
   ]
  },
  {
   "cell_type": "code",
   "execution_count": 49,
   "metadata": {},
   "outputs": [
    {
     "name": "stdout",
     "output_type": "stream",
     "text": [
      "Epoch 1/5\n",
      "1050000/1050000 [==============================] - 37s 35us/step - loss: 0.6156 - acc: 0.6560\n",
      "Epoch 2/5\n",
      "1050000/1050000 [==============================] - 36s 35us/step - loss: 0.5762 - acc: 0.6947\n",
      "Epoch 3/5\n",
      "1050000/1050000 [==============================] - 36s 35us/step - loss: 0.5625 - acc: 0.7062\n",
      "Epoch 4/5\n",
      "1050000/1050000 [==============================] - 39s 37us/step - loss: 0.5534 - acc: 0.7133\n",
      "Epoch 5/5\n",
      "1050000/1050000 [==============================] - 38s 36us/step - loss: 0.5467 - acc: 0.7182\n",
      "0.8046211061926368\n"
     ]
    }
   ],
   "source": [
    "model2g.fit(x, y, epochs=5, batch_size=1000)\n",
    "model2g_ROC = roc_auc_score(y_test,model2g.predict(x_test))\n",
    "print(model2g_ROC)"
   ]
  },
  {
   "cell_type": "markdown",
   "metadata": {},
   "source": [
    "### Model 2h: same as Model 2a with `optimizer = rmsprop`"
   ]
  },
  {
   "cell_type": "code",
   "execution_count": 50,
   "metadata": {},
   "outputs": [],
   "source": [
    "model2h = Sequential()\n",
    "model2h.add(Dense(100, input_dim=x.shape[1], kernel_initializer='uniform')) # X_train.shape[1] == 28 here\n",
    "model2h.add(Activation('relu'))\n",
    "model2h.add(Dropout(0.10))\n",
    "model2h.add(Dense(100, kernel_initializer='uniform'))\n",
    "model2h.add(Activation('relu'))\n",
    "model2h.add(Dropout(0.10))\n",
    "model2h.add(Dense(1, kernel_initializer='uniform')) \n",
    "model2h.add(Activation('sigmoid'))"
   ]
  },
  {
   "cell_type": "code",
   "execution_count": 51,
   "metadata": {},
   "outputs": [],
   "source": [
    "rmsprop = RMSprop(lr=0.001, rho=0.9, epsilon=None, decay=0.0001)\n",
    "model2h.compile(loss='binary_crossentropy', metrics=['accuracy'], optimizer=rmsprop)"
   ]
  },
  {
   "cell_type": "code",
   "execution_count": 52,
   "metadata": {},
   "outputs": [
    {
     "name": "stdout",
     "output_type": "stream",
     "text": [
      "Epoch 1/5\n",
      "1050000/1050000 [==============================] - 37s 35us/step - loss: 0.6274 - acc: 0.6431\n",
      "Epoch 2/5\n",
      "1050000/1050000 [==============================] - 36s 34us/step - loss: 0.5894 - acc: 0.6831\n",
      "Epoch 3/5\n",
      "1050000/1050000 [==============================] - 37s 35us/step - loss: 0.5762 - acc: 0.6944\n",
      "Epoch 4/5\n",
      "1050000/1050000 [==============================] - 37s 35us/step - loss: 0.5674 - acc: 0.7013\n",
      "Epoch 5/5\n",
      "1050000/1050000 [==============================] - 38s 36us/step - loss: 0.5604 - acc: 0.7072\n",
      "0.7946117282081183\n"
     ]
    }
   ],
   "source": [
    "model2h.fit(x, y, epochs=5, batch_size=1000)\n",
    "model2h_ROC = roc_auc_score(y_test,model2h.predict(x_test))\n",
    "print(model2h_ROC)"
   ]
  },
  {
   "cell_type": "markdown",
   "metadata": {},
   "source": [
    "### Model 2i: same as Model 2a with `optimizer = adagrad`"
   ]
  },
  {
   "cell_type": "code",
   "execution_count": 53,
   "metadata": {},
   "outputs": [],
   "source": [
    "model2i = Sequential()\n",
    "model2i.add(Dense(100, input_dim=x.shape[1], kernel_initializer='uniform')) # X_train.shape[1] == 28 here\n",
    "model2i.add(Activation('relu'))\n",
    "model2i.add(Dropout(0.10))\n",
    "model2i.add(Dense(100, kernel_initializer='uniform'))\n",
    "model2i.add(Activation('relu'))\n",
    "model2i.add(Dropout(0.10))\n",
    "model2i.add(Dense(1, kernel_initializer='uniform')) \n",
    "model2i.add(Activation('sigmoid'))"
   ]
  },
  {
   "cell_type": "code",
   "execution_count": 54,
   "metadata": {},
   "outputs": [],
   "source": [
    "adagrad = Adagrad(lr=0.01, epsilon=None, decay=0.0)\n",
    "model2i.compile(loss='binary_crossentropy', metrics=['accuracy'], optimizer=adagrad)"
   ]
  },
  {
   "cell_type": "code",
   "execution_count": 55,
   "metadata": {},
   "outputs": [
    {
     "name": "stdout",
     "output_type": "stream",
     "text": [
      "Epoch 1/5\n",
      "1050000/1050000 [==============================] - 37s 35us/step - loss: 0.6224 - acc: 0.6487\n",
      "Epoch 2/5\n",
      "1050000/1050000 [==============================] - 39s 37us/step - loss: 0.5942 - acc: 0.6799\n",
      "Epoch 3/5\n",
      "1050000/1050000 [==============================] - 36s 35us/step - loss: 0.5849 - acc: 0.6874\n",
      "Epoch 4/5\n",
      "1050000/1050000 [==============================] - 37s 35us/step - loss: 0.5787 - acc: 0.6929\n",
      "Epoch 5/5\n",
      "1050000/1050000 [==============================] - 39s 37us/step - loss: 0.5742 - acc: 0.6964\n",
      "0.7777813539030459\n"
     ]
    }
   ],
   "source": [
    "model2i.fit(x, y, epochs=5, batch_size=1000)\n",
    "model2i_ROC = roc_auc_score(y_test,model2i.predict(x_test))\n",
    "print(model2i_ROC)"
   ]
  },
  {
   "cell_type": "markdown",
   "metadata": {},
   "source": [
    "# Results\n",
    "\n",
    "Let's summarize all result from all the experiments above in one dataframe that contains the following parameters:\n",
    "1. number of layers\n",
    "2. number of neurons\n",
    "3. activation functions\n",
    "4. batch size\n",
    "5. kernel initializer\n",
    "6. optimizer\n",
    "7. ROC"
   ]
  },
  {
   "cell_type": "code",
   "execution_count": 61,
   "metadata": {},
   "outputs": [
    {
     "data": {
      "text/html": [
       "<div>\n",
       "<style scoped>\n",
       "    .dataframe tbody tr th:only-of-type {\n",
       "        vertical-align: middle;\n",
       "    }\n",
       "\n",
       "    .dataframe tbody tr th {\n",
       "        vertical-align: top;\n",
       "    }\n",
       "\n",
       "    .dataframe thead th {\n",
       "        text-align: right;\n",
       "    }\n",
       "</style>\n",
       "<table border=\"1\" class=\"dataframe\">\n",
       "  <thead>\n",
       "    <tr style=\"text-align: right;\">\n",
       "      <th></th>\n",
       "      <th>Model</th>\n",
       "      <th>Layers</th>\n",
       "      <th>Neurons</th>\n",
       "      <th>Activation</th>\n",
       "      <th>Batch</th>\n",
       "      <th>Kernel</th>\n",
       "      <th>Optimizer</th>\n",
       "      <th>ROC</th>\n",
       "    </tr>\n",
       "  </thead>\n",
       "  <tbody>\n",
       "    <tr>\n",
       "      <th>0</th>\n",
       "      <td>base</td>\n",
       "      <td>3</td>\n",
       "      <td>50</td>\n",
       "      <td>sigmoid</td>\n",
       "      <td>1000</td>\n",
       "      <td>uniform</td>\n",
       "      <td>SGD</td>\n",
       "      <td>0.669795</td>\n",
       "    </tr>\n",
       "    <tr>\n",
       "      <th>1</th>\n",
       "      <td>model2</td>\n",
       "      <td>3</td>\n",
       "      <td>100</td>\n",
       "      <td>sigmoid</td>\n",
       "      <td>1000</td>\n",
       "      <td>uniform</td>\n",
       "      <td>SGD</td>\n",
       "      <td>0.680325</td>\n",
       "    </tr>\n",
       "    <tr>\n",
       "      <th>2</th>\n",
       "      <td>model3</td>\n",
       "      <td>5</td>\n",
       "      <td>50</td>\n",
       "      <td>sigmoid</td>\n",
       "      <td>1000</td>\n",
       "      <td>uniform</td>\n",
       "      <td>SGD</td>\n",
       "      <td>0.493907</td>\n",
       "    </tr>\n",
       "    <tr>\n",
       "      <th>3</th>\n",
       "      <td>model4</td>\n",
       "      <td>2</td>\n",
       "      <td>250</td>\n",
       "      <td>sigmoid</td>\n",
       "      <td>1000</td>\n",
       "      <td>uniform</td>\n",
       "      <td>SGD</td>\n",
       "      <td>0.725139</td>\n",
       "    </tr>\n",
       "    <tr>\n",
       "      <th>4</th>\n",
       "      <td>model2a</td>\n",
       "      <td>3</td>\n",
       "      <td>100</td>\n",
       "      <td>relu</td>\n",
       "      <td>1000</td>\n",
       "      <td>uniform</td>\n",
       "      <td>SGD</td>\n",
       "      <td>0.805985</td>\n",
       "    </tr>\n",
       "    <tr>\n",
       "      <th>5</th>\n",
       "      <td>model3a</td>\n",
       "      <td>5</td>\n",
       "      <td>50</td>\n",
       "      <td>tanh</td>\n",
       "      <td>1000</td>\n",
       "      <td>uniform</td>\n",
       "      <td>SGD</td>\n",
       "      <td>0.759545</td>\n",
       "    </tr>\n",
       "    <tr>\n",
       "      <th>6</th>\n",
       "      <td>model4a</td>\n",
       "      <td>2</td>\n",
       "      <td>250</td>\n",
       "      <td>relu</td>\n",
       "      <td>1000</td>\n",
       "      <td>uniform</td>\n",
       "      <td>SGD</td>\n",
       "      <td>0.790324</td>\n",
       "    </tr>\n",
       "    <tr>\n",
       "      <th>7</th>\n",
       "      <td>model2b</td>\n",
       "      <td>3</td>\n",
       "      <td>100</td>\n",
       "      <td>relu</td>\n",
       "      <td>100</td>\n",
       "      <td>uniform</td>\n",
       "      <td>SGD</td>\n",
       "      <td>0.803981</td>\n",
       "    </tr>\n",
       "    <tr>\n",
       "      <th>8</th>\n",
       "      <td>model2c</td>\n",
       "      <td>3</td>\n",
       "      <td>100</td>\n",
       "      <td>relu</td>\n",
       "      <td>100000</td>\n",
       "      <td>uniform</td>\n",
       "      <td>SGD</td>\n",
       "      <td>0.585457</td>\n",
       "    </tr>\n",
       "    <tr>\n",
       "      <th>9</th>\n",
       "      <td>model2d</td>\n",
       "      <td>3</td>\n",
       "      <td>100</td>\n",
       "      <td>relu</td>\n",
       "      <td>1000</td>\n",
       "      <td>normal</td>\n",
       "      <td>SGD</td>\n",
       "      <td>0.808103</td>\n",
       "    </tr>\n",
       "    <tr>\n",
       "      <th>10</th>\n",
       "      <td>model2e</td>\n",
       "      <td>3</td>\n",
       "      <td>100</td>\n",
       "      <td>relu</td>\n",
       "      <td>1000</td>\n",
       "      <td>zeros</td>\n",
       "      <td>SGD</td>\n",
       "      <td>0.500000</td>\n",
       "    </tr>\n",
       "    <tr>\n",
       "      <th>11</th>\n",
       "      <td>model2f</td>\n",
       "      <td>3</td>\n",
       "      <td>100</td>\n",
       "      <td>relu</td>\n",
       "      <td>1000</td>\n",
       "      <td>ones</td>\n",
       "      <td>SGD</td>\n",
       "      <td>0.500000</td>\n",
       "    </tr>\n",
       "    <tr>\n",
       "      <th>12</th>\n",
       "      <td>model2g</td>\n",
       "      <td>3</td>\n",
       "      <td>100</td>\n",
       "      <td>relu</td>\n",
       "      <td>1000</td>\n",
       "      <td>uniform</td>\n",
       "      <td>Adam</td>\n",
       "      <td>0.804621</td>\n",
       "    </tr>\n",
       "    <tr>\n",
       "      <th>13</th>\n",
       "      <td>model2h</td>\n",
       "      <td>3</td>\n",
       "      <td>100</td>\n",
       "      <td>relu</td>\n",
       "      <td>1000</td>\n",
       "      <td>uniform</td>\n",
       "      <td>RMSprop</td>\n",
       "      <td>0.794612</td>\n",
       "    </tr>\n",
       "    <tr>\n",
       "      <th>14</th>\n",
       "      <td>model2i</td>\n",
       "      <td>3</td>\n",
       "      <td>100</td>\n",
       "      <td>relu</td>\n",
       "      <td>1000</td>\n",
       "      <td>uniform</td>\n",
       "      <td>Adagrad</td>\n",
       "      <td>0.777781</td>\n",
       "    </tr>\n",
       "  </tbody>\n",
       "</table>\n",
       "</div>"
      ],
      "text/plain": [
       "      Model  Layers  Neurons Activation   Batch   Kernel Optimizer       ROC\n",
       "0      base       3       50    sigmoid    1000  uniform       SGD  0.669795\n",
       "1    model2       3      100    sigmoid    1000  uniform       SGD  0.680325\n",
       "2    model3       5       50    sigmoid    1000  uniform       SGD  0.493907\n",
       "3    model4       2      250    sigmoid    1000  uniform       SGD  0.725139\n",
       "4   model2a       3      100       relu    1000  uniform       SGD  0.805985\n",
       "5   model3a       5       50       tanh    1000  uniform       SGD  0.759545\n",
       "6   model4a       2      250       relu    1000  uniform       SGD  0.790324\n",
       "7   model2b       3      100       relu     100  uniform       SGD  0.803981\n",
       "8   model2c       3      100       relu  100000  uniform       SGD  0.585457\n",
       "9   model2d       3      100       relu    1000   normal       SGD  0.808103\n",
       "10  model2e       3      100       relu    1000    zeros       SGD  0.500000\n",
       "11  model2f       3      100       relu    1000     ones       SGD  0.500000\n",
       "12  model2g       3      100       relu    1000  uniform      Adam  0.804621\n",
       "13  model2h       3      100       relu    1000  uniform   RMSprop  0.794612\n",
       "14  model2i       3      100       relu    1000  uniform   Adagrad  0.777781"
      ]
     },
     "execution_count": 61,
     "metadata": {},
     "output_type": "execute_result"
    }
   ],
   "source": [
    "r = {'Model' : ['base', 'model2', 'model3', 'model4', 'model2a', 'model3a', 'model4a', 'model2b', 'model2c', 'model2d', 'model2e', 'model2f', 'model2g', 'model2h', 'model2i'],\n",
    "     'Layers': [3, 3, 5, 2, 3, 5, 2, 3, 3, 3, 3, 3, 3, 3, 3],\n",
    "     'Neurons' : [50, 100, 50, 250, 100, 50, 250, 100, 100, 100, 100, 100, 100, 100, 100],\n",
    "     'Activation': ['sigmoid', 'sigmoid', 'sigmoid', 'sigmoid', 'relu', 'tanh', 'relu', 'relu', 'relu', 'relu', 'relu', 'relu', 'relu', 'relu', 'relu'],\n",
    "     'Batch' : [1000, 1000, 1000, 1000, 1000, 1000, 1000, 100, 100000, 1000, 1000, 1000, 1000, 1000, 1000],\n",
    "     'Kernel': ['uniform', 'uniform', 'uniform', 'uniform', 'uniform', 'uniform', 'uniform', 'uniform', 'uniform', 'normal', 'zeros', 'ones', 'uniform', 'uniform', 'uniform'],\n",
    "     'Optimizer': ['SGD', 'SGD', 'SGD', 'SGD', 'SGD', 'SGD', 'SGD', 'SGD', 'SGD', 'SGD', 'SGD', 'SGD', 'Adam', 'RMSprop', 'Adagrad'],\n",
    "     'ROC' : [model_ROC, model2_ROC, model3_ROC, model4_ROC, model2a_ROC, model3a_ROC, model4a_ROC, model2b_ROC, model2c_ROC, model2d_ROC, model2e_ROC, model2f_ROC, model2g_ROC, model2h_ROC, model2i_ROC]\n",
    "    }\n",
    "\n",
    "results = pd.DataFrame(data = r)\n",
    "\n",
    "results"
   ]
  },
  {
   "cell_type": "markdown",
   "metadata": {},
   "source": [
    "# Conclusion\n",
    "\n",
    "The best model was `model2d` with a __ROC = 0.808103__. It has the following parameters:\n",
    "\n",
    "- 3 layers\n",
    "- 100 neurons\n",
    "- `Activation('relu')`\n",
    "- `batch_size=1000`\n",
    "- `kernel_initializer='normal'`\n",
    "- `optimizer=sgd`"
   ]
  },
  {
   "cell_type": "markdown",
   "metadata": {},
   "source": [
    "## Key takeaways\n",
    "\n",
    "For this particular binary classification problem with 28 numerical features,\n",
    "\n",
    "* Adding neurons increases ROC (`base` to `model2`), while increasing the number of layers had a detrimental effect (`model3`)\n",
    "* The combination of Sigmoid and Rectified Linear Unit as activation functions had the most material effect lifting the ROC from 0.680 (`model2`) to 0.805 (`model2a`)\n",
    "* Increasing the batch size from 1000 to 100000 was really bad in terms of ROC, while reducing it to 100 slowed down the process tremendously\n",
    "* The *normal* kernel initializer performed slightly better than the *uniform* increasing the ROC to 0.808\n",
    "* SGD outperformed other optimizers, Adam being slightly behind at 0.804\n",
    "* Further tweaking of the parameters may yield marginal improvements to the ROC. A major ROC gain may require a serious relook to the architecture"
   ]
  },
  {
   "cell_type": "markdown",
   "metadata": {},
   "source": [
    "# References\n",
    "\n",
    "1. UC Irvine Machine Learning Repository, https://archive.ics.uci.edu/ml/datasets/HIGGS\n",
    "\n",
    "2. Set up Anaconda, Jupyter Notebook, Tensorflow for Deep Learning, https://threenine.co.uk/set-up-anaconda-jupyter-notebook-tensorflow-for-deep-learning/\n",
    "\n",
    "3. Keras: The Python Deep Learning library, https://keras.io\n",
    "\n",
    "4. Aurélien Géron, *Hands-on Machine Learning with Scikit-Learn, Keras, and TensorFlow*, 2nd Edition, O'Reilly Media"
   ]
  }
 ],
 "metadata": {
  "kernelspec": {
   "display_name": "Python 3",
   "language": "python",
   "name": "python3"
  },
  "language_info": {
   "codemirror_mode": {
    "name": "ipython",
    "version": 3
   },
   "file_extension": ".py",
   "mimetype": "text/x-python",
   "name": "python",
   "nbconvert_exporter": "python",
   "pygments_lexer": "ipython3",
   "version": "3.6.8"
  }
 },
 "nbformat": 4,
 "nbformat_minor": 2
}
